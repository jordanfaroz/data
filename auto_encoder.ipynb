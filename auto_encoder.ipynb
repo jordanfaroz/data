{
  "nbformat": 4,
  "nbformat_minor": 0,
  "metadata": {
    "colab": {
      "provenance": [],
      "authorship_tag": "ABX9TyNrS1lGnkDQ1Dk8kNw6eRxo",
      "include_colab_link": true
    },
    "kernelspec": {
      "name": "python3",
      "display_name": "Python 3"
    },
    "language_info": {
      "name": "python"
    }
  },
  "cells": [
    {
      "cell_type": "markdown",
      "metadata": {
        "id": "view-in-github",
        "colab_type": "text"
      },
      "source": [
        "<a href=\"https://colab.research.google.com/github/jordanfaroz/data/blob/main/auto_encoder.ipynb\" target=\"_parent\"><img src=\"https://colab.research.google.com/assets/colab-badge.svg\" alt=\"Open In Colab\"/></a>"
      ]
    },
    {
      "cell_type": "code",
      "execution_count": null,
      "metadata": {
        "id": "dbCIBnhV-t_1"
      },
      "outputs": [],
      "source": [
        "%matplotlib inline\n",
        "%config InlineBackend.figure_format = 'retina'\n",
        "\n",
        "import matplotlib.pyplot as plt\n",
        "import pandas as pd\n",
        "import numpy as np\n",
        "import seaborn as sna\n",
        "import warnings\n",
        "\n",
        "warnings.filterwarnings('ignore')\n",
        "\n",
        "from tensorflow.keras.models import Model\n",
        "from tensorflow.keras.layers import Dense, Input\n",
        "from tensorflow.keras.datasets import mnist\n",
        "from tensorflow.keras.datasets import fashion_mnist\n",
        "from tensorflow.keras.regularizers import l1\n",
        "from tensorflow.keras.optimizers import Adam\n"
      ]
    },
    {
      "cell_type": "code",
      "source": [
        "def plot_autoencoder_outputs (autoencoder, n, dims) :\n",
        "\n",
        "  n = 5\n",
        "  plt.figure (figsize= (10, 4.5 ))\n",
        "  decoded_imgs = autoencoder.predict(x_test)\n",
        "\n",
        "\n",
        "  for i in range (n):\n",
        "\n",
        "    # plot original image\n",
        "    ax = plt.subplot (2, n, i + 1)\n",
        "    plt.imshow(x_test[i].reshape (*dims) )\n",
        "    plt.gray ()\n",
        "    ax.get_xaxis ().set_visible (False)\n",
        "    ax.get_yaxis ( ).set_visible (False)\n",
        "    if i == n/2:\n",
        "      ax.set_title( 'Original Images')\n",
        "    # plot reconstruction\n",
        "    ax = plt.subplot (2, n, i + 1 + n)\n",
        "    plt.imshow (decoded_imgs [i].reshape (*dims))\n",
        "    plt.gray ( )\n",
        "    ax.getxaxis ( ) .set_visible (False)\n",
        "    ax.get_yaxis().set_visible (False)\n",
        "    if i == n/2:\n",
        "      ax.set_title( 'Reconstructed Images')\n",
        "\n",
        "  plt_show()"
      ],
      "metadata": {
        "id": "9ojbRKYBBfFp"
      },
      "execution_count": null,
      "outputs": []
    },
    {
      "cell_type": "code",
      "source": [
        "(x_train, y_train), (x_test, y_test) = fashion_mnist.load_data ()\n",
        "\n",
        "x_train = x_train.astype ('float32') / 255.0\n",
        "x_test = x_test.astype ('float32') / 255.0\n",
        "x_train = x_train.reshape ( (len (x_train), np.prod(x_train.shape [1:])))\n",
        "x_test = x_test.reshape ( (len (x_test), np.prod(x_test.shape[1:])))\n",
        "print(x_train.shape)\n",
        "print(x_test.shape)"
      ],
      "metadata": {
        "colab": {
          "base_uri": "https://localhost:8080/"
        },
        "id": "m0c7aJxEDt6v",
        "outputId": "be1c64d0-ceb5-46bf-d8f8-330f5057fade"
      },
      "execution_count": null,
      "outputs": [
        {
          "output_type": "stream",
          "name": "stdout",
          "text": [
            "Downloading data from https://storage.googleapis.com/tensorflow/tf-keras-datasets/train-labels-idx1-ubyte.gz\n",
            "29515/29515 [==============================] - 0s 0us/step\n",
            "Downloading data from https://storage.googleapis.com/tensorflow/tf-keras-datasets/train-images-idx3-ubyte.gz\n",
            "26421880/26421880 [==============================] - 0s 0us/step\n",
            "Downloading data from https://storage.googleapis.com/tensorflow/tf-keras-datasets/t10k-labels-idx1-ubyte.gz\n",
            "5148/5148 [==============================] - 0s 0us/step\n",
            "Downloading data from https://storage.googleapis.com/tensorflow/tf-keras-datasets/t10k-images-idx3-ubyte.gz\n",
            "4422102/4422102 [==============================] - 0s 0us/step\n",
            "(60000, 784)\n",
            "(10000, 784)\n"
          ]
        }
      ]
    },
    {
      "cell_type": "code",
      "source": [
        "input_size = 784\n",
        "n_neurons = 64\n",
        "input_img = Input(shape=(input_size,))\n",
        "code = Dense(n_neurons, activation='relu') (input_img)\n",
        "output_img = Dense(input_size, activation='sigmoid') (code)\n",
        "autoencoder = Model (input_img, output_img)\n",
        "autoencoder.compile (optimizer= 'adam', loss= 'binary_crossentropy')\n",
        "autoencoder.fit (x_train, x_train, epochs=5)"
      ],
      "metadata": {
        "colab": {
          "base_uri": "https://localhost:8080/"
        },
        "id": "OXNVuzxVGlC-",
        "outputId": "cef8e8b1-088c-4a02-b7bd-1991ab8c2768"
      },
      "execution_count": null,
      "outputs": [
        {
          "output_type": "stream",
          "name": "stdout",
          "text": [
            "Epoch 1/5\n",
            "1875/1875 [==============================] - 7s 3ms/step - loss: 0.3148\n",
            "Epoch 2/5\n",
            "1875/1875 [==============================] - 7s 4ms/step - loss: 0.2798\n",
            "Epoch 3/5\n",
            "1875/1875 [==============================] - 6s 3ms/step - loss: 0.2747\n",
            "Epoch 4/5\n",
            "1875/1875 [==============================] - 7s 4ms/step - loss: 0.2729\n",
            "Epoch 5/5\n",
            "1875/1875 [==============================] - 6s 3ms/step - loss: 0.2720\n"
          ]
        },
        {
          "output_type": "execute_result",
          "data": {
            "text/plain": [
              "<keras.callbacks.History at 0x7f2d98d2b7f0>"
            ]
          },
          "metadata": {},
          "execution_count": 7
        }
      ]
    },
    {
      "cell_type": "code",
      "source": [
        "input_size = 784\n",
        "hidden_size = 128\n",
        "code_size = 128\n",
        "input_img = Input (shape=(input_size,))\n",
        "hidden_1 = Dense (hidden_size, activation='relu' ) (input_img)\n",
        "code = Dense (code_size, activation= 'relu') (hidden_1)\n",
        "hidden_2 = Dense (hidden_size, activation='relu') (code)\n",
        "output_img = Dense(input_size, activation='sigmoid') (hidden_2)\n",
        "autoencoder = Model (input_img, output_img)\n",
        "autoencoder.compile (optimizer='adam', loss= 'binary_crossentropy')\n",
        "autoencoder.fit (x_train, x_train, epochs=3)"
      ],
      "metadata": {
        "colab": {
          "base_uri": "https://localhost:8080/"
        },
        "id": "dA2WOyg2JM9B",
        "outputId": "5ab6d639-f039-4c56-e35a-050e80c55ac2"
      },
      "execution_count": null,
      "outputs": [
        {
          "output_type": "stream",
          "name": "stdout",
          "text": [
            "Epoch 1/3\n",
            "1875/1875 [==============================] - 12s 6ms/step - loss: 0.3064\n",
            "Epoch 2/3\n",
            "1875/1875 [==============================] - 12s 6ms/step - loss: 0.2803\n",
            "Epoch 3/3\n",
            "1875/1875 [==============================] - 10s 5ms/step - loss: 0.2750\n"
          ]
        },
        {
          "output_type": "execute_result",
          "data": {
            "text/plain": [
              "<keras.callbacks.History at 0x7f2d961c5a50>"
            ]
          },
          "metadata": {},
          "execution_count": 8
        }
      ]
    },
    {
      "cell_type": "code",
      "source": [
        "input_size = 784\n",
        "hidden_size = 128\n",
        "code_size = 32\n",
        "input_img = Input(shape= (input_size,))\n",
        "hidden_1 = Dense (hidden_size, activation='relu' ) (input_img)\n",
        "code = Dense (code_size, activation='relu') (hidden_1)\n",
        "hidden_2 = Dense(hidden_size, activation='relu') (code)\n",
        "output_img = Dense (input_size, activation='sigmoid') (hidden_2)\n",
        "autoencoder = Model (input_img, output_img)\n",
        "autoencoder.compile (optimizer='adam', loss= 'binary_crossentropy')\n",
        "autoencoder.fit(x_train, x_train, epochs=10)"
      ],
      "metadata": {
        "colab": {
          "base_uri": "https://localhost:8080/"
        },
        "id": "Tws6w-lkKcZq",
        "outputId": "e5afaba2-7779-471b-c097-37059b97409f"
      },
      "execution_count": null,
      "outputs": [
        {
          "output_type": "stream",
          "name": "stdout",
          "text": [
            "Epoch 1/10\n",
            "1875/1875 [==============================] - 11s 5ms/step - loss: 0.3105\n",
            "Epoch 2/10\n",
            "1875/1875 [==============================] - 9s 5ms/step - loss: 0.2847\n",
            "Epoch 3/10\n",
            "1875/1875 [==============================] - 10s 5ms/step - loss: 0.2797\n",
            "Epoch 4/10\n",
            "1875/1875 [==============================] - 10s 5ms/step - loss: 0.2773\n",
            "Epoch 5/10\n",
            "1875/1875 [==============================] - 10s 5ms/step - loss: 0.2758\n",
            "Epoch 6/10\n",
            "1875/1875 [==============================] - 10s 5ms/step - loss: 0.2748\n",
            "Epoch 7/10\n",
            "1875/1875 [==============================] - 10s 5ms/step - loss: 0.2740\n",
            "Epoch 8/10\n",
            "1875/1875 [==============================] - 10s 5ms/step - loss: 0.2734\n",
            "Epoch 9/10\n",
            "1875/1875 [==============================] - 10s 5ms/step - loss: 0.2729\n",
            "Epoch 10/10\n",
            "1875/1875 [==============================] - 10s 5ms/step - loss: 0.2725\n"
          ]
        },
        {
          "output_type": "execute_result",
          "data": {
            "text/plain": [
              "<keras.callbacks.History at 0x7f2d96a679d0>"
            ]
          },
          "metadata": {},
          "execution_count": 10
        }
      ]
    }
  ]
}