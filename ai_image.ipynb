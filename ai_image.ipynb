{
  "nbformat": 4,
  "nbformat_minor": 0,
  "metadata": {
    "colab": {
      "provenance": [],
      "authorship_tag": "ABX9TyNozZ7YEZPmJJe7boC3Bb9l",
      "include_colab_link": true
    },
    "kernelspec": {
      "name": "python3",
      "display_name": "Python 3"
    },
    "language_info": {
      "name": "python"
    }
  },
  "cells": [
    {
      "cell_type": "markdown",
      "metadata": {
        "id": "view-in-github",
        "colab_type": "text"
      },
      "source": [
        "<a href=\"https://colab.research.google.com/github/jordanfaroz/data/blob/main/ai_image.ipynb\" target=\"_parent\"><img src=\"https://colab.research.google.com/assets/colab-badge.svg\" alt=\"Open In Colab\"/></a>"
      ]
    },
    {
      "cell_type": "code",
      "execution_count": null,
      "metadata": {
        "id": "mdqkeByOhsGB"
      },
      "outputs": [],
      "source": [
        "import numpy as np\n",
        "x = np.linspace(0,100,5)\n",
        "print(x)"
      ]
    },
    {
      "cell_type": "code",
      "source": [
        "y=1./(np.pi*(1.+x**2))\n",
        "print(y)"
      ],
      "metadata": {
        "id": "Vidh_y9Nh8kZ"
      },
      "execution_count": null,
      "outputs": []
    },
    {
      "cell_type": "markdown",
      "source": [
        "## plt.rc\n",
        "\n",
        "Each time Matplotlib loads, it defines a runtime configuration (r) containing the default styles for every plot element you create. This configuration can be adjusted at any time using the plt.re convenience routine.\n"
      ],
      "metadata": {
        "id": "atzkgpw8jGam"
      }
    },
    {
      "cell_type": "code",
      "source": [
        "import matplotlib.pyplot as plt\n",
        "x = np.linspace(-4.,4.,401)\n",
        "y=1./(np.pi*(1.+x**2))\n",
        "\n",
        "plt.rc('lines',linewidth=4)\n",
        "\n",
        "plt.plot(x,y)\n",
        "plt.show()"
      ],
      "metadata": {
        "id": "ptVrkD8ijKm8"
      },
      "execution_count": null,
      "outputs": []
    },
    {
      "cell_type": "markdown",
      "source": [
        "# decode jpeg function"
      ],
      "metadata": {
        "id": "ViOhtr2Ijt2U"
      }
    },
    {
      "cell_type": "code",
      "source": [
        "import tensorflow as tf\n",
        "import matplotlib.pyplot as plt\n",
        "\n",
        "image =tf.io.read_file('pexels-pixabay-459203.jpg')\n",
        "image = tf.io.decode_jpeg(image)\n",
        "print(image)"
      ],
      "metadata": {
        "id": "b_Tu8G_ckI4W"
      },
      "execution_count": null,
      "outputs": []
    },
    {
      "cell_type": "markdown",
      "source": [
        "# tf.reshape"
      ],
      "metadata": {
        "id": "_hF6UZPtk-NJ"
      }
    },
    {
      "cell_type": "code",
      "source": [
        "t1 =  [[1,2,3,\n",
        "        4,5,6]]\n",
        "print(tf.shape(t1).numpy())"
      ],
      "metadata": {
        "colab": {
          "base_uri": "https://localhost:8080/"
        },
        "id": "wi9QlSz3k9jL",
        "outputId": "7a2fe58b-aca8-44b2-a29f-b273fa97fc91"
      },
      "execution_count": null,
      "outputs": [
        {
          "output_type": "stream",
          "name": "stdout",
          "text": [
            "[1 6]\n"
          ]
        }
      ]
    },
    {
      "cell_type": "code",
      "source": [
        "t2=tf.reshape(t1,[6])\n",
        "print(tf.shape(t1).numpy())"
      ],
      "metadata": {
        "id": "qa2sqMaJlSH5"
      },
      "execution_count": null,
      "outputs": []
    },
    {
      "cell_type": "code",
      "source": [
        "print(t2.numpy())"
      ],
      "metadata": {
        "id": "pm2mv970ljqL"
      },
      "execution_count": null,
      "outputs": []
    },
    {
      "cell_type": "code",
      "source": [
        "tf.reshape(t2,[3,2])"
      ],
      "metadata": {
        "id": "SlKfAJWQlnpm"
      },
      "execution_count": null,
      "outputs": []
    },
    {
      "cell_type": "code",
      "source": [
        "kernel = tf.constant([[-1,-1,-1],\n",
        "                      [-1,8,-1],\n",
        "                      [-1,-1,-1]])\n",
        "print(kernel.shape)"
      ],
      "metadata": {
        "id": "RYAPuFsplrkQ"
      },
      "execution_count": null,
      "outputs": []
    },
    {
      "cell_type": "code",
      "source": [
        "kernel=tf.reshape(kernel,[*kernel.shape,1,1])\n",
        "print(kernel)"
      ],
      "metadata": {
        "id": "kpyZKbsWmB1F"
      },
      "execution_count": null,
      "outputs": []
    },
    {
      "cell_type": "markdown",
      "source": [
        "## CNN"
      ],
      "metadata": {
        "id": "027umgLPw_MT"
      }
    },
    {
      "cell_type": "code",
      "source": [
        "import numpy as np\n",
        "import tensorflow as tf\n",
        "import matplotlib.pyplot as plt\n",
        "from itertools import product\n"
      ],
      "metadata": {
        "id": "KzYNK-ZAxBHJ"
      },
      "execution_count": null,
      "outputs": []
    },
    {
      "cell_type": "code",
      "source": [
        "plt.rc('figure',autolayout=True)\n",
        "plt.rc('image', cmap='magma')"
      ],
      "metadata": {
        "id": "sfAaDI11xVG7"
      },
      "execution_count": null,
      "outputs": []
    },
    {
      "cell_type": "code",
      "source": [
        "kernel = tf.constant([[-1,-1,-1],\n",
        "                      [-1,8,-1],\n",
        "                      [-1,-1,-1]])\n",
        "image= tf.io.read_file('pexels-pixabay-459203.jpg')\n",
        "image= tf.io.decode_jpeg(image, channels=1)"
      ],
      "metadata": {
        "id": "JMzw-DXTxk3s"
      },
      "execution_count": null,
      "outputs": []
    },
    {
      "cell_type": "code",
      "source": [
        "print(image)"
      ],
      "metadata": {
        "id": "unN3wVb9yUYr"
      },
      "execution_count": null,
      "outputs": []
    },
    {
      "cell_type": "code",
      "source": [
        "img = tf .squeeze (image) . numpy ()\n",
        "plt.figure(figsize=(5, 5))\n",
        "plt.imshow(img, cmap='gray')\n",
        "plt.axis('off')\n",
        "plt.title('Original Gray Scale image')\n",
        "plt. show();"
      ],
      "metadata": {
        "id": "f_NJNE1TyX4b"
      },
      "execution_count": null,
      "outputs": []
    },
    {
      "cell_type": "code",
      "source": [
        "#Reformat\n",
        "image = tf .image. convert_image_dtype (image, dtype=tf.float32)\n",
        "image = tf .expand_dims (image, axis=0)\n",
        "kernel = tf.reshape(kernel, [*kernel.shape, 1, 1])\n",
        "print (kernel)\n",
        "kernel = tf.cast (kernel, dtype=tf.float32)"
      ],
      "metadata": {
        "id": "BGFSQ5HVy-mA"
      },
      "execution_count": null,
      "outputs": []
    },
    {
      "cell_type": "code",
      "source": [
        "conv_fn = tf.nn.conv2d"
      ],
      "metadata": {
        "id": "o9zWFgcPzTHO"
      },
      "execution_count": null,
      "outputs": []
    },
    {
      "cell_type": "markdown",
      "source": [
        "# tf.nn.conv2d\n",
        "Syntax\n",
        "tf.nn.conv2d( input, filter, strides, padding, use_cudnn_on_gpu=True, data_format='NHWC', dilations=(1, 1, 1, 1], name=None)\n",
        "Args\" input: A Tensor. Must be one of the following types: half, bfloat16, float32, float64. A 4-D tensor. The dimension order is interpreted according to the value of data_format, see below for details.\n",
        "\n",
        "filter: A Tensor. Must have the same type as input. A 4-D tensor of shape (filter_height, filter_width, in_channels, out_channels] strides: A list of ints. 1-D tensor of length 4. The stride of the sliding window for each dimension of input. The dimension order is determined by the value of data_format, see below for details\n",
        "padding: A string from: \"SAME\", \"VALID\". The type of padding algorithm to use. use_cudnn_on_gpu. An optional bool. Defaults to True.\n",
        "\n",
        "data_format: An optional string from: \"NHWO\", \"NCHW\". Defaults to \"HWC\". Specify the data format of the input and output data. With the default format \"NHWC\", the data is stored in the order of: [batch, height, width, channels]. Alternatively, the format could be \"NCHW\", the data storage order of: [batch, channels, height, width].\n",
        "\n",
        "dilations: An optional list of ints. Defaults to [1, 1, 1, 1]. 1-D tensor of length 4. The dilation factor for each dimension of input. If set to k> 1, there will be k-1 skipped cells between each filter element on that dimension. The dimension order is determined by the value of data_format, see above for details. Dilations in the batch and depth dimensions must be 1 name: A name for the operation (optional)."
      ],
      "metadata": {
        "id": "o44TIQ4k6qaj"
      }
    },
    {
      "cell_type": "code",
      "source": [
        "import tensorflow as tf\n",
        "k = tf. constant ([\n",
        "[1, 0, 1],\n",
        "[2, 1, 0],\n",
        "[0, 0, 1]\n",
        "], dtype=tf. float32, name= 'k')\n",
        "i = tf. constant ([\n",
        "[4, 3, 1, 0],\n",
        "[2, 1, 0, 1],\n",
        "[1, 2, 4, 1],\n",
        "[3, 1, 0, 2]\n",
        "], dtype=tf .float32, name='i')\n",
        "kernel = tf.reshape(k, [3, 3, 1, 1], name= 'kernel')\n",
        "print(kernel)\n",
        "im = tf.reshape(i, [1, 4, 4, 1], name= 'im\"')\n",
        "print(image)"
      ],
      "metadata": {
        "id": "7fGYz9wn6vsW"
      },
      "execution_count": null,
      "outputs": []
    },
    {
      "cell_type": "code",
      "source": [
        "res = tf. squeeze(tf.nn. conv2d(im, kernel, [1, 1, 1, 1], \"VALID\"))\n",
        "#VALID means no padding\n",
        "print(res)"
      ],
      "metadata": {
        "colab": {
          "base_uri": "https://localhost:8080/",
          "height": 200
        },
        "id": "oPH68YvA8B7T",
        "outputId": "2c157673-6164-45df-8790-df75dad758c4"
      },
      "execution_count": null,
      "outputs": [
        {
          "output_type": "error",
          "ename": "NameError",
          "evalue": "ignored",
          "traceback": [
            "\u001b[0;31m---------------------------------------------------------------------------\u001b[0m",
            "\u001b[0;31mNameError\u001b[0m                                 Traceback (most recent call last)",
            "\u001b[0;32m<ipython-input-1-385555636c13>\u001b[0m in \u001b[0;36m<cell line: 1>\u001b[0;34m()\u001b[0m\n\u001b[0;32m----> 1\u001b[0;31m \u001b[0mres\u001b[0m \u001b[0;34m=\u001b[0m \u001b[0mtf\u001b[0m\u001b[0;34m.\u001b[0m \u001b[0msqueeze\u001b[0m\u001b[0;34m(\u001b[0m\u001b[0mtf\u001b[0m\u001b[0;34m.\u001b[0m\u001b[0mnn\u001b[0m\u001b[0;34m.\u001b[0m \u001b[0mconv2d\u001b[0m\u001b[0;34m(\u001b[0m\u001b[0mim\u001b[0m\u001b[0;34m,\u001b[0m \u001b[0mkernel\u001b[0m\u001b[0;34m,\u001b[0m \u001b[0;34m[\u001b[0m\u001b[0;36m1\u001b[0m\u001b[0;34m,\u001b[0m \u001b[0;36m1\u001b[0m\u001b[0;34m,\u001b[0m \u001b[0;36m1\u001b[0m\u001b[0;34m,\u001b[0m \u001b[0;36m1\u001b[0m\u001b[0;34m]\u001b[0m\u001b[0;34m,\u001b[0m \u001b[0;34m\"VALID\"\u001b[0m\u001b[0;34m)\u001b[0m\u001b[0;34m)\u001b[0m\u001b[0;34m\u001b[0m\u001b[0;34m\u001b[0m\u001b[0m\n\u001b[0m\u001b[1;32m      2\u001b[0m \u001b[0;31m#VALID means no padding\u001b[0m\u001b[0;34m\u001b[0m\u001b[0;34m\u001b[0m\u001b[0m\n\u001b[1;32m      3\u001b[0m \u001b[0mprint\u001b[0m\u001b[0;34m(\u001b[0m\u001b[0mres\u001b[0m\u001b[0;34m)\u001b[0m\u001b[0;34m\u001b[0m\u001b[0;34m\u001b[0m\u001b[0m\n",
            "\u001b[0;31mNameError\u001b[0m: name 'tf' is not defined"
          ]
        }
      ]
    },
    {
      "cell_type": "code",
      "source": [
        "#convolution layer\n",
        "conv_fn = tf.nn. conv2d\n",
        "image_filter = conv_fn(\n",
        "input=image,\n",
        "filters=-kernel,\n",
        "strides=1,  #or (1, 1)\n",
        "padding= 'SAME', )\n",
        "plt.figure(figsize=(15, 5))\n",
        "#Plot the convolved image\n",
        "plt. subplot (1, 3, 1)\n",
        "plt. imshow(\n",
        "tf.squeeze (image_filter)\n",
        ")\n",
        "plt.axis('off')\n",
        "plt.title('Convolution')"
      ],
      "metadata": {
        "id": "1tX7hEgE8ONc"
      },
      "execution_count": null,
      "outputs": []
    },
    {
      "cell_type": "code",
      "source": [
        "#Pooling layer\n",
        "pool = tf.nn.pool\n",
        "image_condense = pool(input=image,\n",
        "                      window_shape=(2, 2),\n",
        "                      pooling_type= 'MAX',\n",
        "                      strides=(2,2),\n",
        "                      padding='SAME',)\n",
        "plt.subplot(1, 3, 3)\n",
        "plt.imshow(tf.squeeze (image_condense))\n",
        "plt.axis ('off')\n",
        "plt.title('Pooling')\n",
        "plt.show ()"
      ],
      "metadata": {
        "id": "hyRogdBt_dCP"
      },
      "execution_count": null,
      "outputs": []
    },
    {
      "cell_type": "code",
      "source": [
        "#activation layer\n",
        "relu_fn = tf.nn.relu\n",
        "#Image detection\n",
        "image_detect = relu_fn(image)\n",
        "plt.subplot (1, 3, 2)\n",
        "plt.imshow(\n",
        "tf.squeeze (image)\n",
        ")\n",
        "plt.axis(\"off\")\n",
        "plt.title('Activation')"
      ],
      "metadata": {
        "id": "T2j8isaqOFZ1"
      },
      "execution_count": null,
      "outputs": []
    },
    {
      "cell_type": "markdown",
      "source": [
        "# tf.nn.relu\n",
        "tf.nn.relu( features, name=None ) Args\n",
        "\n",
        "features A Tensor. Must be one of the following types: float32, float64, int32, uint8, int16, int8, int64, bfloat16, uint16, half, uint32, uint64, qint8.\n",
        "\n",
        " name A name for the operation (optional).\n",
        "\n",
        "Returns A Tensor. Has the same type as features.\n",
        "\n",
        "\n",
        "<>\n",
        "An activation function is a function which is applied to the output of a neural network layer, which is then passed as the input to the next layer.\n",
        "\n",
        "Activation functions are an essential part of neural networks as they provide non-linearity, without which the neural network reduces to a mere logistic regression model. The most widely used activation function is the Rectified Linear Unit *(ReLU)."
      ],
      "metadata": {
        "id": "eZlh_xk7OpZh"
      }
    },
    {
      "cell_type": "code",
      "source": [
        "#Importing the Tensorflow library\n",
        "import tensorflow as tf\n",
        "#A constant vector of size 6\n",
        "a = tf.constant([1.0, -0.5, 3.4, -2.1, 0.0, -6.5], dtype = tf.float32)\n",
        "#Applying the ReLu function and\n",
        "#storing the result in 'b'\n",
        "b = tf.nn.relu(a, name = 'ReLU')\n",
        "print(b)"
      ],
      "metadata": {
        "id": "7tc1QgB7OpDi"
      },
      "execution_count": null,
      "outputs": []
    }
  ]
}